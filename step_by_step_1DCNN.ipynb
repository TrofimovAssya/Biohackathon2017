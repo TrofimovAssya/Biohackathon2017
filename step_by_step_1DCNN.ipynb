{
 "cells": [
  {
   "cell_type": "code",
   "execution_count": 241,
   "metadata": {
    "collapsed": true
   },
   "outputs": [],
   "source": [
    "import numpy\n",
    "import cPickle as pickle\n",
    "from keras.preprocessing import sequence\n",
    "from keras.models import Sequential\n",
    "from keras.layers import Dense\n",
    "from keras.layers import Flatten\n",
    "from keras.layers.convolutional import Convolution1D\n",
    "from keras.layers.convolutional import MaxPooling1D\n",
    "from keras.utils import np_utils\n",
    "from keras.optimizers import RMSprop\n",
    "numpy.random.seed(260389)"
   ]
  },
  {
   "cell_type": "code",
   "execution_count": 242,
   "metadata": {
    "collapsed": true
   },
   "outputs": [],
   "source": [
    "data = numpy.loadtxt(open('profiles_trimmed','rb'))\n",
    "annotation = numpy.loadtxt(open('numpy_annotations','rb'))"
   ]
  },
  {
   "cell_type": "code",
   "execution_count": 243,
   "metadata": {
    "collapsed": true
   },
   "outputs": [],
   "source": [
    "cnv_dict = {}"
   ]
  },
  {
   "cell_type": "code",
   "execution_count": 244,
   "metadata": {
    "collapsed": true
   },
   "outputs": [],
   "source": [
    "#function for padding sequences\n",
    "def pad_seq(seq, max_length):\n",
    "    temp = numpy.zeros(max_length)\n",
    "    for i in xrange(len(seq)):\n",
    "        temp[i] = seq[i]\n",
    "    return temp\n",
    "\n",
    "#creating the data dictionnary\n",
    "for i in xrange(data.shape[0]):\n",
    "    if not ((data[i,0],data[i,1]) in cnv_dict.keys()):\n",
    "        cnv_dict[(data[i,0],data[i,1])] = [data[i,3]]\n",
    "    else: cnv_dict[(data[i,0],data[i,1])].append(data[i,3])"
   ]
  },
  {
   "cell_type": "code",
   "execution_count": 245,
   "metadata": {
    "collapsed": true
   },
   "outputs": [],
   "source": [
    "#finding the max length of sequence in the dictionnary\n",
    "m = [len(cnv_dict[i]) for i in cnv_dict.keys()]\n",
    "max_length = numpy.max(m)"
   ]
  },
  {
   "cell_type": "code",
   "execution_count": 246,
   "metadata": {
    "collapsed": true
   },
   "outputs": [],
   "source": [
    "#padding the sequences\n",
    "for i in cnv_dict.keys():\n",
    "    cnv_dict[i] = pad_seq(cnv_dict[i], max_length)"
   ]
  },
  {
   "cell_type": "code",
   "execution_count": 247,
   "metadata": {
    "collapsed": true
   },
   "outputs": [],
   "source": [
    "pickle.dump(cnv_dict,open(\"cnv_dict.p\",\"wb\"))"
   ]
  },
  {
   "cell_type": "code",
   "execution_count": 248,
   "metadata": {
    "collapsed": true
   },
   "outputs": [],
   "source": [
    "#making the annotation dictionnary\n",
    "annot_dict = {}\n",
    "for i in xrange(annotation.shape[0]):\n",
    "    annot_dict[(annotation[i,0],annotation[i,1])] = [annotation[i,2]]\n"
   ]
  },
  {
   "cell_type": "code",
   "execution_count": 249,
   "metadata": {
    "collapsed": true
   },
   "outputs": [],
   "source": [
    "#creating a dataset palatable for the neural network (a numpy array...)\n",
    "Xdata = numpy.zeros((len(cnv_dict.keys()), max_length))\n",
    "Ydata = numpy.zeros((len(cnv_dict.keys())))\n",
    "Xtest = numpy.zeros((len(cnv_dict.keys()), max_length))\n",
    "Ytest = numpy.zeros((len(cnv_dict.keys())))\n",
    "\n",
    "\n",
    "unannotated = [] # we are keeping the unannotated sequences to see if we can possibly predict them later on."
   ]
  },
  {
   "cell_type": "code",
   "execution_count": 250,
   "metadata": {
    "collapsed": false
   },
   "outputs": [],
   "source": [
    "#creating the dataset for the neural network (and removing a chromosome for testing purposes (cross-validation))\n",
    "chrom=11.\n",
    "\n",
    "'''\n",
    "TODO: check out the bug with the indices!\n",
    "'''\n",
    "for i in xrange(len(cnv_dict.keys())):\n",
    "    key = cnv_dict.keys()[i]\n",
    "    if key in annot_dict.keys():\n",
    "        if key[1]==chrom:\n",
    "            Xtest[i,:] = cnv_dict[key]\n",
    "            Ytest[i] = annot_dict[key][0]            \n",
    "        else:\n",
    "            Xdata[i,:] = cnv_dict[key]\n",
    "            Ydata[i] = annot_dict[key][0]\n",
    "    else:\n",
    "        unannotated.append(key)"
   ]
  },
  {
   "cell_type": "code",
   "execution_count": 251,
   "metadata": {
    "collapsed": true
   },
   "outputs": [],
   "source": [
    "#scaling data (or not...)\n",
    "#Xdata = scale(Xdata)"
   ]
  },
  {
   "cell_type": "code",
   "execution_count": 252,
   "metadata": {
    "collapsed": false
   },
   "outputs": [],
   "source": [
    "Xdata = Xdata.reshape(Xdata.shape + (1,))\n",
    "Ydata = np_utils.to_categorical(Ydata,nb_classes=2)\n",
    "Xtest = Xtest.reshape(Xtest.shape + (1,))\n",
    "Ytest = np_utils.to_categorical(Ytest,nb_classes=2)\n",
    "\n",
    "numpy.save('padded_seq',Xdata)\n",
    "numpy.save('data_annotation',Ydata)"
   ]
  },
  {
   "cell_type": "code",
   "execution_count": 255,
   "metadata": {
    "collapsed": false
   },
   "outputs": [],
   "source": [
    "###constructing the neural network (keras)\n",
    "model = Sequential()\n",
    "model.add(Convolution1D(32,3, input_shape=(max_length,1)))\n",
    "model.add(MaxPooling1D(pool_length=2))\n",
    "model.add(Flatten())\n",
    "model.add(Dense(32,activation='relu'))\n",
    "model.add(Dense(16,activation='relu'))\n",
    "model.add(Dense(8,activation='relu'))\n",
    "model.add(Dense(2))\n",
    "opt = RMSprop(lr=1e-4)\n",
    "model.compile(optimizer=opt,loss='categorical_crossentropy', metrics=['accuracy'])"
   ]
  },
  {
   "cell_type": "code",
   "execution_count": 257,
   "metadata": {
    "collapsed": false
   },
   "outputs": [
    {
     "name": "stdout",
     "output_type": "stream",
     "text": [
      "Train on 2760 samples, validate on 690 samples\n",
      "Epoch 1/25\n",
      "2760/2760 [==============================] - 31s - loss: 1.2800 - acc: 0.8337 - val_loss: 1.1492 - val_acc: 0.7986\n",
      "Epoch 2/25\n",
      "2760/2760 [==============================] - 25s - loss: 1.1912 - acc: 0.6152 - val_loss: 0.6421 - val_acc: 0.3116\n",
      "Epoch 3/25\n",
      "2760/2760 [==============================] - 24s - loss: 0.7152 - acc: 0.4152 - val_loss: 0.8218 - val_acc: 0.7652\n",
      "Epoch 4/25\n",
      "2760/2760 [==============================] - 25s - loss: 0.5629 - acc: 0.6243 - val_loss: 0.5067 - val_acc: 0.4333\n",
      "Epoch 5/25\n",
      "2760/2760 [==============================] - 25s - loss: 0.4932 - acc: 0.6174 - val_loss: 0.4923 - val_acc: 0.3551\n",
      "Epoch 6/25\n",
      "2760/2760 [==============================] - 25s - loss: 0.4557 - acc: 0.5482 - val_loss: 0.5578 - val_acc: 0.3522\n",
      "Epoch 7/25\n",
      "2760/2760 [==============================] - 25s - loss: 0.4799 - acc: 0.4428 - val_loss: 0.4769 - val_acc: 0.6986\n",
      "Epoch 8/25\n",
      "2760/2760 [==============================] - 25s - loss: 0.5120 - acc: 0.5246 - val_loss: 0.5768 - val_acc: 0.2681\n",
      "Epoch 9/25\n",
      "2760/2760 [==============================] - 25s - loss: 0.6111 - acc: 0.3667 - val_loss: 0.5171 - val_acc: 0.7420\n",
      "Epoch 10/25\n",
      "2760/2760 [==============================] - 24s - loss: 0.4792 - acc: 0.7388 - val_loss: 0.5321 - val_acc: 0.7594\n",
      "Epoch 11/25\n",
      "2760/2760 [==============================] - 25s - loss: 0.5934 - acc: 0.7290 - val_loss: 0.6161 - val_acc: 0.7058\n",
      "Epoch 12/25\n",
      "2760/2760 [==============================] - 25s - loss: 0.6614 - acc: 0.6670 - val_loss: 0.8667 - val_acc: 0.2797\n",
      "Epoch 13/25\n",
      "2760/2760 [==============================] - 25s - loss: 0.6218 - acc: 0.2728 - val_loss: 0.8036 - val_acc: 0.2870\n",
      "Epoch 14/25\n",
      "2760/2760 [==============================] - 25s - loss: 0.7733 - acc: 0.2663 - val_loss: 1.0120 - val_acc: 0.2739\n",
      "Epoch 15/25\n",
      "2760/2760 [==============================] - 25s - loss: 0.5844 - acc: 0.4359 - val_loss: 0.4911 - val_acc: 0.2493\n",
      "Epoch 16/25\n",
      "2760/2760 [==============================] - 24s - loss: 0.8543 - acc: 0.4268 - val_loss: 0.4596 - val_acc: 0.6261\n",
      "Epoch 17/25\n",
      "2760/2760 [==============================] - 24s - loss: 0.4537 - acc: 0.6630 - val_loss: 0.5090 - val_acc: 0.7130\n",
      "Epoch 18/25\n",
      "2760/2760 [==============================] - 25s - loss: 0.5245 - acc: 0.5815 - val_loss: 0.6054 - val_acc: 0.3348\n",
      "Epoch 19/25\n",
      "2760/2760 [==============================] - 25s - loss: 0.6183 - acc: 0.4859 - val_loss: 0.8344 - val_acc: 0.7290\n",
      "Epoch 20/25\n",
      "2760/2760 [==============================] - 25s - loss: 0.6636 - acc: 0.6877 - val_loss: 0.5102 - val_acc: 0.8174\n",
      "Epoch 21/25\n",
      "2760/2760 [==============================] - 25s - loss: 0.5138 - acc: 0.8069 - val_loss: 0.4040 - val_acc: 0.8261\n",
      "Epoch 22/25\n",
      "2760/2760 [==============================] - 25s - loss: 0.4968 - acc: 0.8000 - val_loss: 0.7339 - val_acc: 0.8377\n",
      "Epoch 23/25\n",
      "2760/2760 [==============================] - 25s - loss: 0.4964 - acc: 0.8500 - val_loss: 0.4071 - val_acc: 0.8652\n",
      "Epoch 24/25\n",
      "2760/2760 [==============================] - 25s - loss: 0.3460 - acc: 0.8536 - val_loss: 0.2938 - val_acc: 0.8652\n",
      "Epoch 25/25\n",
      "2760/2760 [==============================] - 25s - loss: 0.3417 - acc: 0.8551 - val_loss: 0.5150 - val_acc: 0.4261\n"
     ]
    },
    {
     "data": {
      "text/plain": [
       "<keras.callbacks.History at 0x1120eead0>"
      ]
     },
     "execution_count": 257,
     "metadata": {},
     "output_type": "execute_result"
    }
   ],
   "source": [
    "model.fit(Xdata,Ydata,verbose=1,batch_size=200, validation_split = 0.2, nb_epoch=25)"
   ]
  },
  {
   "cell_type": "code",
   "execution_count": 179,
   "metadata": {
    "collapsed": true
   },
   "outputs": [],
   "source": [
    "numpy.save('padded_seq',Xdata)\n",
    "numpy.save('data_annotation',Ydata)"
   ]
  },
  {
   "cell_type": "code",
   "execution_count": 192,
   "metadata": {
    "collapsed": false
   },
   "outputs": [
    {
     "data": {
      "text/plain": [
       "-7.6749999999999998"
      ]
     },
     "execution_count": 192,
     "metadata": {},
     "output_type": "execute_result"
    }
   ],
   "source": [
    "numpy.min(Xdata)"
   ]
  },
  {
   "cell_type": "code",
   "execution_count": 193,
   "metadata": {
    "collapsed": true
   },
   "outputs": [],
   "source": [
    "from sklearn.preprocessing import scale"
   ]
  },
  {
   "cell_type": "code",
   "execution_count": 233,
   "metadata": {
    "collapsed": false
   },
   "outputs": [
    {
     "data": {
      "text/plain": [
       "[(247.0, 1.0),\n",
       " (306.0, 17.0),\n",
       " (118.0, 2.0),\n",
       " (441.0, 11.0),\n",
       " (267.0, 17.0),\n",
       " (181.0, 1.0),\n",
       " (419.0, 17.0),\n",
       " (290.0, 17.0),\n",
       " (281.0, 17.0),\n",
       " (368.0, 1.0),\n",
       " (147.0, 1.0),\n",
       " (264.0, 1.0),\n",
       " (287.0, 4.0),\n",
       " (182.0, 4.0),\n",
       " (207.0, 4.0),\n",
       " (161.0, 11.0),\n",
       " (375.0, 11.0),\n",
       " (14.0, 1.0),\n",
       " (79.0, 1.0),\n",
       " (211.0, 17.0),\n",
       " (57.0, 17.0),\n",
       " (287.0, 17.0),\n",
       " (302.0, 4.0),\n",
       " (133.0, 17.0),\n",
       " (188.0, 17.0),\n",
       " (25.0, 17.0),\n",
       " (368.0, 3.0),\n",
       " (38.0, 11.0),\n",
       " (312.0, 1.0),\n",
       " (368.0, 4.0),\n",
       " (495.0, 17.0),\n",
       " (487.0, 4.0)]"
      ]
     },
     "execution_count": 233,
     "metadata": {},
     "output_type": "execute_result"
    }
   ],
   "source": [
    "unannotated"
   ]
  },
  {
   "cell_type": "code",
   "execution_count": 218,
   "metadata": {
    "collapsed": false
   },
   "outputs": [
    {
     "data": {
      "text/plain": [
       "57.231199909691945"
      ]
     },
     "execution_count": 218,
     "metadata": {},
     "output_type": "execute_result"
    }
   ],
   "source": [
    "numpy.max(Xdata)"
   ]
  },
  {
   "cell_type": "code",
   "execution_count": 224,
   "metadata": {
    "collapsed": false
   },
   "outputs": [
    {
     "data": {
      "text/plain": [
       "(None, 2967, 32)"
      ]
     },
     "execution_count": 224,
     "metadata": {},
     "output_type": "execute_result"
    }
   ],
   "source": [
    "model.layers[1].output_shape"
   ]
  },
  {
   "cell_type": "code",
   "execution_count": 230,
   "metadata": {
    "collapsed": false
   },
   "outputs": [
    {
     "name": "stdout",
     "output_type": "stream",
     "text": [
      "____________________________________________________________________________________________________\n",
      "Layer (type)                     Output Shape          Param #     Connected to                     \n",
      "====================================================================================================\n",
      "convolution1d_28 (Convolution1D) (None, 5935, 32)      128         convolution1d_input_26[0][0]     \n",
      "____________________________________________________________________________________________________\n",
      "maxpooling1d_24 (MaxPooling1D)   (None, 2967, 32)      0           convolution1d_28[0][0]           \n",
      "____________________________________________________________________________________________________\n",
      "flatten_22 (Flatten)             (None, 94944)         0           maxpooling1d_24[0][0]            \n",
      "____________________________________________________________________________________________________\n",
      "dense_71 (Dense)                 (None, 32)            3038240     flatten_22[0][0]                 \n",
      "____________________________________________________________________________________________________\n",
      "dense_72 (Dense)                 (None, 16)            528         dense_71[0][0]                   \n",
      "____________________________________________________________________________________________________\n",
      "dense_73 (Dense)                 (None, 8)             136         dense_72[0][0]                   \n",
      "____________________________________________________________________________________________________\n",
      "dense_74 (Dense)                 (None, 2)             18          dense_73[0][0]                   \n",
      "====================================================================================================\n",
      "Total params: 3,039,050\n",
      "Trainable params: 3,039,050\n",
      "Non-trainable params: 0\n",
      "____________________________________________________________________________________________________\n"
     ]
    }
   ],
   "source": [
    "model.summary()"
   ]
  },
  {
   "cell_type": "code",
   "execution_count": null,
   "metadata": {
    "collapsed": true
   },
   "outputs": [],
   "source": []
  }
 ],
 "metadata": {
  "kernelspec": {
   "display_name": "Python 2",
   "language": "python",
   "name": "python2"
  },
  "language_info": {
   "codemirror_mode": {
    "name": "ipython",
    "version": 2
   },
   "file_extension": ".py",
   "mimetype": "text/x-python",
   "name": "python",
   "nbconvert_exporter": "python",
   "pygments_lexer": "ipython2",
   "version": "2.7.10"
  }
 },
 "nbformat": 4,
 "nbformat_minor": 0
}
